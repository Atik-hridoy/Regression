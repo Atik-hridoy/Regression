{
  "nbformat": 4,
  "nbformat_minor": 0,
  "metadata": {
    "colab": {
      "name": "Regression.ipynb",
      "provenance": []
    },
    "kernelspec": {
      "name": "python3",
      "display_name": "Python 3"
    },
    "language_info": {
      "name": "python"
    }
  },
  "cells": [
    {
      "cell_type": "code",
      "execution_count": 55,
      "metadata": {
        "id": "Q_UEe2YZnrBf"
      },
      "outputs": [],
      "source": [
        "import sympy as sp #importing sympy\n",
        "\n",
        "# Dedining a set of mathematical symbols\n",
        "vars = sp.symbols('x y m b N')  \n",
        "x, y,m,b,N = vars\n",
        "\n",
        "#creating the expression\n",
        "expr = ((1/(2*N)) * ((y - (m*x+b))**2))"
      ]
    },
    {
      "cell_type": "code",
      "source": [
        "display(expr)"
      ],
      "metadata": {
        "colab": {
          "base_uri": "https://localhost:8080/",
          "height": 56
        },
        "id": "-xYZyewApSsR",
        "outputId": "cdc17822-1991-4c26-922d-b38946b56a7f"
      },
      "execution_count": 56,
      "outputs": [
        {
          "output_type": "display_data",
          "data": {
            "text/plain": [
              "(-b - m*x + y)**2/(2*N)"
            ],
            "text/latex": "$\\displaystyle \\frac{\\left(- b - m x + y\\right)^{2}}{2 N}$"
          },
          "metadata": {}
        }
      ]
    },
    {
      "cell_type": "code",
      "source": [
        "print(expr.subs({N:2, b:5, m:5}))"
      ],
      "metadata": {
        "colab": {
          "base_uri": "https://localhost:8080/"
        },
        "id": "p_MQIQQKpS8Y",
        "outputId": "0682b1dc-7d26-4bbe-a6d4-75324229ff3d"
      },
      "execution_count": 57,
      "outputs": [
        {
          "output_type": "stream",
          "name": "stdout",
          "text": [
            "(-5*x + y - 5)**2/4\n"
          ]
        }
      ]
    },
    {
      "cell_type": "code",
      "source": [
        "print(expr.subs({N:2, y:2, x:3, b:5, m:5}))"
      ],
      "metadata": {
        "colab": {
          "base_uri": "https://localhost:8080/"
        },
        "id": "Dx3SKKyhpTJy",
        "outputId": "f1bddd8a-64f4-4c1c-f595-07866c6d6392"
      },
      "execution_count": 58,
      "outputs": [
        {
          "output_type": "stream",
          "name": "stdout",
          "text": [
            "81\n"
          ]
        }
      ]
    },
    {
      "cell_type": "code",
      "source": [
        "diff = sp.diff(expr, b)  #differentiating with respect to b\n",
        "display(diff)  "
      ],
      "metadata": {
        "colab": {
          "base_uri": "https://localhost:8080/",
          "height": 52
        },
        "id": "h7sFuDUMpTUY",
        "outputId": "51a58a53-7917-4788-ae82-71e3daa08986"
      },
      "execution_count": 59,
      "outputs": [
        {
          "output_type": "display_data",
          "data": {
            "text/plain": [
              "(2*b + 2*m*x - 2*y)/(2*N)"
            ],
            "text/latex": "$\\displaystyle \\frac{2 b + 2 m x - 2 y}{2 N}$"
          },
          "metadata": {}
        }
      ]
    },
    {
      "cell_type": "code",
      "source": [
        "display(diff.simplify())"
      ],
      "metadata": {
        "colab": {
          "base_uri": "https://localhost:8080/",
          "height": 52
        },
        "id": "3fydEcnbtNTj",
        "outputId": "68531356-19a2-459f-9b3a-99aee94835e7"
      },
      "execution_count": 60,
      "outputs": [
        {
          "output_type": "display_data",
          "data": {
            "text/plain": [
              "(b + m*x - y)/N"
            ],
            "text/latex": "$\\displaystyle \\frac{b + m x - y}{N}$"
          },
          "metadata": {}
        }
      ]
    },
    {
      "cell_type": "code",
      "source": [
        "display(sp.diff(expr, m))"
      ],
      "metadata": {
        "colab": {
          "base_uri": "https://localhost:8080/",
          "height": 53
        },
        "id": "wTVZl8rktNgK",
        "outputId": "be40e52e-43d2-4880-a12c-6d5bcef6cd67"
      },
      "execution_count": 61,
      "outputs": [
        {
          "output_type": "display_data",
          "data": {
            "text/plain": [
              "-x*(-b - m*x + y)/N"
            ],
            "text/latex": "$\\displaystyle - \\frac{x \\left(- b - m x + y\\right)}{N}$"
          },
          "metadata": {}
        }
      ]
    },
    {
      "cell_type": "code",
      "source": [
        "import numpy as np\n",
        "\n",
        "X = np.linspace(0, 100, 50)  #generating 50 X between 0 to 100 with uniform difference between each valie\n",
        "delta = np.random.uniform(-10, 10, X.size) # generating randon delta\n",
        "Y = 0.5*X + 3 + delta #calculating Y"
      ],
      "metadata": {
        "id": "PZc-t0u1tNwC"
      },
      "execution_count": 62,
      "outputs": []
    },
    {
      "cell_type": "code",
      "source": [
        "import matplotlib.pyplot as plt\n",
        "plt.scatter(X, Y)"
      ],
      "metadata": {
        "colab": {
          "base_uri": "https://localhost:8080/",
          "height": 282
        },
        "id": "34kKTLV_tOJb",
        "outputId": "744bc9c3-16f1-4e58-9e5a-954b1b4e412d"
      },
      "execution_count": 63,
      "outputs": [
        {
          "output_type": "execute_result",
          "data": {
            "text/plain": [
              "<matplotlib.collections.PathCollection at 0x7feeb5c2fe90>"
            ]
          },
          "metadata": {},
          "execution_count": 63
        },
        {
          "output_type": "display_data",
          "data": {
            "text/plain": [
              "<Figure size 432x288 with 1 Axes>"
            ],
            "image/png": "[encoded data removed]"
          },
          "metadata": {
            "needs_background": "light"
          }
        }
      ]
    },
    {
      "cell_type": "code",
      "source": [
        "def gradient_descent(b_val, m_val, x_val, y_val, learning_rate, num_iterations):\n",
        "\n",
        "\n",
        "    # Defining the error function\n",
        "    vars = sp.symbols('x y m b n')\n",
        "    x, y,m,b,n = vars\n",
        "    n_val = float(len(x_val))\n",
        "    error_function = ((1/(2*n)) * ((y - (m*x+b))**2))\n",
        "\n",
        "    #calculating the partial derivatives\n",
        "    error_function_b = sp.diff(error_function, b)\n",
        "    error_function_m = sp.diff(error_function, m)\n",
        "\n",
        "    # repeat for num_iterations\n",
        "    for j in range(num_iterations): \n",
        "        b_gradient = 0\n",
        "        m_gradient = 0\n",
        "        for i in range(0, len(x_val)):\n",
        "            b_gradient += error_function_b.subs({x:x_val[i], y: y_val[i], m:m_val, b:b_val, n:n_val})\n",
        "            m_gradient += error_function_m.subs({x:x_val[i], y: y_val[i], m:m_val, b:b_val, n:n_val})\n",
        "\n",
        "        #update the value for b and m    \n",
        "        b_val -= (learning_rate * b_gradient)\n",
        "        m_val -= (learning_rate * m_gradient)\n",
        "        \n",
        "    return [b_val, m_val]"
      ],
      "metadata": {
        "id": "VKjWlZpEtOiD"
      },
      "execution_count": 64,
      "outputs": []
    },
    {
      "cell_type": "code",
      "source": [
        "m_val = 0\n",
        "b_val = 0\n",
        "\n",
        "predictions = [(m_val * X[i]) + b_val for i in range(len(X))]\n",
        "plt.scatter(X, Y)\n",
        "plt.plot(X, predictions, color='r')"
      ],
      "metadata": {
        "colab": {
          "base_uri": "https://localhost:8080/",
          "height": 282
        },
        "id": "hUyNCtOitOyr",
        "outputId": "1a80aadd-3079-4fc2-f39c-5b5072262786"
      },
      "execution_count": 65,
      "outputs": [
        {
          "output_type": "execute_result",
          "data": {
            "text/plain": [
              "[<matplotlib.lines.Line2D at 0x7feeb5c7c8d0>]"
            ]
          },
          "metadata": {},
          "execution_count": 65
        },
        {
          "output_type": "display_data",
          "data": {
            "text/plain": [
              "<Figure size 432x288 with 1 Axes>"
            ],
            "image/png": "[encoded data removed]"
          },
          "metadata": {
            "needs_background": "light"
          }
        }
      ]
    },
    {
      "cell_type": "code",
      "source": [
        "vals = gradient_descent(0, 0, X, Y, .0001, 2)\n",
        "m_val = vals[1]\n",
        "b_val = vals[0]\n",
        "predictions = [(m_val * X[i]) + b_val for i in range(len(X))]\n",
        "plt.scatter(X, Y)\n",
        "plt.plot(X, predictions, color='r')"
      ],
      "metadata": {
        "colab": {
          "base_uri": "https://localhost:8080/",
          "height": 282
        },
        "id": "syLzfyPslPfA",
        "outputId": "774314a5-46ac-456f-8751-cea9e5946642"
      },
      "execution_count": 66,
      "outputs": [
        {
          "output_type": "execute_result",
          "data": {
            "text/plain": [
              "[<matplotlib.lines.Line2D at 0x7feeb5b29190>]"
            ]
          },
          "metadata": {},
          "execution_count": 66
        },
        {
          "output_type": "display_data",
          "data": {
            "text/plain": [
              "<Figure size 432x288 with 1 Axes>"
            ],
            "image/png": "[encoded data removed]"
          },
          "metadata": {
            "needs_background": "light"
          }
        }
      ]
    },
    {
      "cell_type": "code",
      "source": [
        "vals = gradient_descent(0, 0, X, Y, .0001, 10)\n",
        "m_val = vals[1]\n",
        "b_val = vals[0]\n",
        "predictions = [(m_val * X[i]) + b_val for i in range(len(X))]\n",
        "plt.scatter(X, Y)\n",
        "plt.plot(X, predictions, color='r')"
      ],
      "metadata": {
        "colab": {
          "base_uri": "https://localhost:8080/",
          "height": 282
        },
        "id": "14FPLSztlPt-",
        "outputId": "43501db3-9980-4f2f-dddc-ef8779d071ed"
      },
      "execution_count": 67,
      "outputs": [
        {
          "output_type": "execute_result",
          "data": {
            "text/plain": [
              "[<matplotlib.lines.Line2D at 0x7feeb5a9ba10>]"
            ]
          },
          "metadata": {},
          "execution_count": 67
        },
        {
          "output_type": "display_data",
          "data": {
            "text/plain": [
              "<Figure size 432x288 with 1 Axes>"
            ],
            "image/png": "[encoded data removed]"
          },
          "metadata": {
            "needs_background": "light"
          }
        }
      ]
    },
    {
      "cell_type": "code",
      "source": [
        "import numpy as np\n",
        "import matplotlib.pyplot as plt\n",
        "\n",
        "X = np.linspace(0, 100, 50)\n",
        "delta = np.random.uniform(-10000, 10000, X.size)\n",
        "Y = 10*X**2 + 0.5*X + 3 + delta\n",
        "\n",
        "plt.scatter(X, Y)"
      ],
      "metadata": {
        "colab": {
          "base_uri": "https://localhost:8080/",
          "height": 282
        },
        "id": "DstcoSthlP55",
        "outputId": "846b7bed-5616-44e7-ca04-43f485a93af9"
      },
      "execution_count": 68,
      "outputs": [
        {
          "output_type": "execute_result",
          "data": {
            "text/plain": [
              "<matplotlib.collections.PathCollection at 0x7feeb5a12550>"
            ]
          },
          "metadata": {},
          "execution_count": 68
        },
        {
          "output_type": "display_data",
          "data": {
            "text/plain": [
              "<Figure size 432x288 with 1 Axes>"
            ],
            "image/png": "[encoded data removed]"
          },
          "metadata": {
            "needs_background": "light"
          }
        }
      ]
    },
    {
      "cell_type": "code",
      "source": [
        "vals = gradient_descent(-5, 5, X, Y, .0001, 20)\n",
        "m_val = vals[1]\n",
        "b_val = vals[0]\n",
        "\n",
        "predictions = [(m_val * X[i]) + b_val for i in range(len(X))]\n",
        "plt.scatter(X, Y)\n",
        "plt.plot(X, predictions, color='r')"
      ],
      "metadata": {
        "colab": {
          "base_uri": "https://localhost:8080/",
          "height": 282
        },
        "id": "W8XO6RymlQPH",
        "outputId": "cc0b3ad4-9f5d-4b4a-dbd5-db0d44fc1f93"
      },
      "execution_count": 69,
      "outputs": [
        {
          "output_type": "execute_result",
          "data": {
            "text/plain": [
              "[<matplotlib.lines.Line2D at 0x7feeb5adcc10>]"
            ]
          },
          "metadata": {},
          "execution_count": 69
        },
        {
          "output_type": "display_data",
          "data": {
            "text/plain": [
              "<Figure size 432x288 with 1 Axes>"
            ],
            "image/png": "[encoded data removed]"
          },
          "metadata": {
            "needs_background": "light"
          }
        }
      ]
    },
    {
      "cell_type": "code",
      "source": [
        "def gradient_descent_poly(b_val, m_val, a_val, x_val, y_val, learning_rate, num_iterations):\n",
        "\n",
        "    # Define x and y as mathematical symbols\n",
        "    vars = sp.symbols('x y m b n a')\n",
        "    x, y,m,b,n, a = vars\n",
        "    n_val = float(len(x_val))\n",
        "    error_function = ((1/(2*n)) * ((y - (a*(x**2) + m*x+b))**2))\n",
        "    for j in range(num_iterations): # repeat for num_iterations\n",
        "        b_gradient = 0\n",
        "        m_gradient = 0\n",
        "        a_gradient = 0\n",
        "        for i in range(0, len(x_val)):\n",
        "            #print(b)\n",
        "            b_gradient += sp.diff(error_function, b).subs({x:x_val[i], y: y_val[i], m:m_val, a: a_val, b:b_val, n:n_val})\n",
        "            m_gradient += sp.diff(error_function, m).subs({x:x_val[i], y: y_val[i], m:m_val, a: a_val, b:b_val, n:n_val})\n",
        "            a_gradient += sp.diff(error_function, a).subs({x:x_val[i], y: y_val[i], m:m_val, a: a_val, b:b_val, n:n_val})\n",
        "            \n",
        "        b_val -= (learning_rate * b_gradient)\n",
        "        m_val -= (learning_rate * m_gradient)\n",
        "        a_val -= (learning_rate * a_gradient)\n",
        "        \n",
        "    return [b_val, m_val, a_val]"
      ],
      "metadata": {
        "id": "4k46o7EJlQdY"
      },
      "execution_count": 70,
      "outputs": []
    },
    {
      "cell_type": "code",
      "source": [
        "vals = gradient_descent_poly(-5, -5, -5, X, Y, .00000001, 20)\n",
        "m_val = vals[1]\n",
        "b_val = vals[0]\n",
        "a_val = vals[2]\n",
        "predictions = [(a_val * X[i]*X[i]) + (m_val * X[i]) + b_val for i in range(len(X))]\n",
        "plt.scatter(X, Y)\n",
        "plt.plot(X, predictions, color='r')"
      ],
      "metadata": {
        "colab": {
          "base_uri": "https://localhost:8080/",
          "height": 282
        },
        "id": "LCWvoI1Yl0CR",
        "outputId": "1223dd4c-8d0d-4280-b446-7ee819052c6b"
      },
      "execution_count": 71,
      "outputs": [
        {
          "output_type": "execute_result",
          "data": {
            "text/plain": [
              "[<matplotlib.lines.Line2D at 0x7feeb5970f50>]"
            ]
          },
          "metadata": {},
          "execution_count": 71
        },
        {
          "output_type": "display_data",
          "data": {
            "text/plain": [
              "<Figure size 432x288 with 1 Axes>"
            ],
            "image/png": "[encoded data removed]"
          },
          "metadata": {
            "needs_background": "light"
          }
        }
      ]
    },
    {
      "cell_type": "code",
      "source": [
        "from mpl_toolkits import mplot3d\n",
        "import numpy as np\n",
        "import matplotlib.pyplot as plt\n",
        "fig = plt.figure()\n",
        "ax = plt.axes(projection='3d')\n",
        "X = np.linspace(-20, 20, 30)\n",
        "Y = np.linspace(-20, 20, 30)\n",
        "delta = np.random.uniform(-100000, 100000, X.size)\n",
        "Z = 5* X**3 + 18*Y**2 + 2*Y + 50* Y**3 + 4*X +30 + delta\n",
        "ax.scatter3D(X, Y, Z, cmap='Greens');"
      ],
      "metadata": {
        "colab": {
          "base_uri": "https://localhost:8080/",
          "height": 248
        },
        "id": "uzDWOQhSl0Nz",
        "outputId": "5f294f4b-91c8-45d6-99c4-ab7a8c6e7743"
      },
      "execution_count": 72,
      "outputs": [
        {
          "output_type": "display_data",
          "data": {
            "text/plain": [
              "<Figure size 432x288 with 1 Axes>"
            ],
            "image/png": "[encoded data removed]"
          },
          "metadata": {
            "needs_background": "light"
          }
        }
      ]
    },
    {
      "cell_type": "code",
      "source": [
        "def gradient_descent_poly_degree_three(b_val, m_val, a_val, c_val, d_val, e_val, x_val, y_val, z_val, learning_rate, num_iterations):\n",
        "\n",
        "    # Define x and y as mathematical symbols\n",
        "    vars = sp.symbols('x y z m b n a c d e')\n",
        "    x, y,z , m,b,n, a, c, d, e = vars\n",
        "    n_val = float(len(x_val))\n",
        "    error_function = ((1/(2*n)) * ((z - (a*x**3 + c*y**2 + d*x + e*y**3 + m*x+b))**2))\n",
        "    err_func_b  = sp.diff(error_function, b)\n",
        "    err_func_m  = sp.diff(error_function, m)\n",
        "    err_func_a  = sp.diff(error_function, a)\n",
        "    err_func_c  = sp.diff(error_function, c)\n",
        "    err_func_d  = sp.diff(error_function, d)\n",
        "    err_func_e  = sp.diff(error_function, e)\n",
        "    for j in range(num_iterations): # repeat for num_iterations\n",
        "        b_gradient = 0\n",
        "        m_gradient = 0\n",
        "        a_gradient = 0\n",
        "        c_gradient = 0\n",
        "        d_gradient = 0\n",
        "        e_gradient = 0\n",
        "        for i in range(0, len(x_val)):\n",
        "            #print(b)\n",
        "            b_gradient += err_func_b.subs({x:x_val[i], y: y_val[i], z:z_val[i], m:m_val, a: a_val, b:b_val, n:n_val, c:c_val, d:d_val, e:e_val})\n",
        "            m_gradient += err_func_m.subs({x:x_val[i], y: y_val[i], z:z_val[i], m:m_val, a: a_val, b:b_val, n:n_val, c:c_val, d:d_val, e:e_val})\n",
        "            a_gradient += err_func_a.subs({x:x_val[i], y: y_val[i], z:z_val[i], m:m_val, a: a_val, b:b_val, n:n_val, c:c_val, d:d_val, e:e_val})\n",
        "            c_gradient += err_func_c.subs({x:x_val[i], y: y_val[i], z:z_val[i], m:m_val, a: a_val, b:b_val, n:n_val, c:c_val, d:d_val, e:e_val})\n",
        "            d_gradient += err_func_d.subs({x:x_val[i], y: y_val[i], z:z_val[i], m:m_val, a: a_val, b:b_val, n:n_val, c:c_val, d:d_val, e:e_val})\n",
        "            e_gradient += err_func_e.subs({x:x_val[i], y: y_val[i], z:z_val[i], m:m_val, a: a_val, b:b_val, n:n_val, c:c_val, d:d_val, e:e_val})\n",
        "            \n",
        "        b_val -= (learning_rate * b_gradient)\n",
        "        m_val -= (learning_rate * m_gradient)\n",
        "        a_val -= (learning_rate * a_gradient)\n",
        "        c_val -= (learning_rate * c_gradient)\n",
        "        d_val -= (learning_rate * d_gradient)\n",
        "        e_val -= (learning_rate * e_gradient)\n",
        "        \n",
        "    return [b_val, m_val, a_val, c_val, d_val, e_val]"
      ],
      "metadata": {
        "id": "CXvCbhIJl0YA"
      },
      "execution_count": 23,
      "outputs": []
    },
    {
      "cell_type": "code",
      "source": [
        "vals = gradient_descent_poly_degree_three(0, 0, 0, 0,0,0, X, Y, Z, .00000001, 10)\n",
        "m_val = vals[1]\n",
        "b_val = vals[0]\n",
        "a_val = vals[2]\n",
        "c_val = vals[3]\n",
        "d_val = vals[4]\n",
        "e_val = vals[5]\n",
        "\n",
        "predictions = [a_val * X[i]**3 + c_val * Y[i]**2 + d_val * Y[i] + e_val * Y[i]**3 + m_val * X[i] + b_val for i in range(len(X))]\n",
        "ax = plt.axes(projection='3d')\n",
        "\n",
        "ax.scatter3D(X, Y,Z)\n",
        "ax.plot3D(X, Y, predictions, color='r')"
      ],
      "metadata": {
        "colab": {
          "base_uri": "https://localhost:8080/",
          "height": 265
        },
        "id": "513fLYDal0jo",
        "outputId": "deb3dcc6-b6f5-4225-9023-e8df893ed8ab"
      },
      "execution_count": 73,
      "outputs": [
        {
          "output_type": "execute_result",
          "data": {
            "text/plain": [
              "[<mpl_toolkits.mplot3d.art3d.Line3D at 0x7feece596310>]"
            ]
          },
          "metadata": {},
          "execution_count": 73
        },
        {
          "output_type": "display_data",
          "data": {
            "text/plain": [
              "<Figure size 432x288 with 1 Axes>"
            ],
            "image/png": "[encoded data removed]"
          },
          "metadata": {
            "needs_background": "light"
          }
        }
      ]
    },
    {
      "cell_type": "code",
      "source": [
        "X = np.linspace(0, 100, 50)\n",
        "Y = np.zeros(X.size)\n",
        "Y[25:50] = 1\n",
        "plt.scatter(X, Y)"
      ],
      "metadata": {
        "colab": {
          "base_uri": "https://localhost:8080/",
          "height": 282
        },
        "id": "nw7jtP4Nl0zx",
        "outputId": "1a7d4c12-0176-4149-a195-c7a8a2ecd28f"
      },
      "execution_count": 25,
      "outputs": [
        {
          "output_type": "execute_result",
          "data": {
            "text/plain": [
              "<matplotlib.collections.PathCollection at 0x7feecc408f50>"
            ]
          },
          "metadata": {},
          "execution_count": 25
        },
        {
          "output_type": "display_data",
          "data": {
            "text/plain": [
              "<Figure size 432x288 with 1 Axes>"
            ],
            "image/png": "[encoded data removed]"
          },
          "metadata": {
            "needs_background": "light"
          }
        }
      ]
    },
    {
      "cell_type": "code",
      "source": [
        "def gradient_descent_logistic(b_val, m_val, x_val, y_val, learning_rate, num_iterations):\n",
        "\n",
        "\n",
        "    # Defining the error function or the cost function\n",
        "    vars = sp.symbols('x y m b n')\n",
        "    x, y,m,b,n = vars\n",
        "    n_val = float(len(x_val))\n",
        "    error_function = -(1/(n)) * ((y * sp.log(1/ (1+(sp.exp(-(m*x+b)))))) + ((1-y) * sp.log(1 - (1/ (1+(sp.exp(-(m*x+b))))))))\n",
        "\n",
        "    #calculatin partial derivative\n",
        "    error_function_b = sp.diff(error_function, b)\n",
        "    error_function_m = sp.diff(error_function, m)\n",
        "    for j in range(num_iterations): # repeat for num_iterations\n",
        "        b_gradient = 0\n",
        "        m_gradient = 0\n",
        "        for i in range(0, len(x_val)):\n",
        "            #print(b)\n",
        "            b_gradient += error_function_b.evalf(subs = {x:x_val[i], y:y_val[i], m:m_val, b:b_val,n:n_val})\n",
        "            m_gradient += error_function_m.evalf(subs = {x:x_val[i], y:y_val[i], m:m_val, b:b_val,n:n_val})\n",
        "\n",
        "        #correcting b and m in an ierative way    \n",
        "        b_val -= (learning_rate * b_gradient)\n",
        "        m_val -= (learning_rate * m_gradient)\n",
        "        \n",
        "        \n",
        "    return [b_val, m_val]"
      ],
      "metadata": {
        "id": "SAEkq0xtl1BZ"
      },
      "execution_count": 74,
      "outputs": []
    },
    {
      "cell_type": "code",
      "source": [
        "import math\n",
        "vals = gradient_descent_logistic(-10, -5, X, Y, .01, 20)\n",
        "m_val = vals[1]\n",
        "b_val = vals[0]\n",
        "print(m_val, b_val)\n",
        "predictions = [1/(1+math.exp(-((m_val * X[i]) + b_val))) for i in range(len(X))]\n",
        "plt.scatter(X, Y)\n",
        "plt.plot(X, predictions, color='r')"
      ],
      "metadata": {
        "colab": {
          "base_uri": "https://localhost:8080/",
          "height": 300
        },
        "id": "dKBmPe-bl1Xh",
        "outputId": "55da0eee-eb02-42d3-dae6-e86e52d7ee16"
      },
      "execution_count": 76,
      "outputs": [
        {
          "output_type": "stream",
          "name": "stdout",
          "text": [
            "19.1999317257957 -10.2998167902501\n"
          ]
        },
        {
          "output_type": "execute_result",
          "data": {
            "text/plain": [
              "[<matplotlib.lines.Line2D at 0x7feeb574a190>]"
            ]
          },
          "metadata": {},
          "execution_count": 76
        },
        {
          "output_type": "display_data",
          "data": {
            "text/plain": [
              "<Figure size 432x288 with 1 Axes>"
            ],
            "image/png": "[encoded data removed]"
          },
          "metadata": {
            "needs_background": "light"
          }
        }
      ]
    },
    {
      "cell_type": "code",
      "source": [
        "import pandas as pd\n",
        "dataset = pd.read_csv(\"zoo.csv\")\n",
        "dataset.head(4)"
      ],
      "metadata": {
        "colab": {
          "base_uri": "https://localhost:8080/",
          "height": 239
        },
        "id": "65NUKVyame1V",
        "outputId": "a9aba29a-5a6e-4126-97bb-d42850c09162"
      },
      "execution_count": 44,
      "outputs": [
        {
          "output_type": "execute_result",
          "data": {
            "text/plain": [
              "  animal_name  hair  feathers  eggs  milk  airborne  aquatic  predator  \\\n",
              "0    aardvark     1         0     0     1         0        0         1   \n",
              "1    antelope     1         0     0     1         0        0         0   \n",
              "2        bass     0         0     1     0         0        1         1   \n",
              "3        bear     1         0     0     1         0        0         1   \n",
              "\n",
              "   toothed  backbone  breathes  venomous  fins  legs  tail  domestic  catsize  \\\n",
              "0        1         1         1         0     0     4     0         0        1   \n",
              "1        1         1         1         0     0     4     1         0        1   \n",
              "2        1         1         0         0     1     0     1         0        0   \n",
              "3        1         1         1         0     0     4     0         0        1   \n",
              "\n",
              "   class_type  \n",
              "0           1  \n",
              "1           1  \n",
              "2           4  \n",
              "3           1  "
            ],
            "text/html": [
              "\n",
              "  <div id=\"df-4e008a35-be96-4fc8-9913-659f623c36db\">\n",
              "    <div class=\"colab-df-container\">\n",
              "      <div>\n",
              "<style scoped>\n",
              "    .dataframe tbody tr th:only-of-type {\n",
              "        vertical-align: middle;\n",
              "    }\n",
              "\n",
              "    .dataframe tbody tr th {\n",
              "        vertical-align: top;\n",
              "    }\n",
              "\n",
              "    .dataframe thead th {\n",
              "        text-align: right;\n",
              "    }\n",
              "</style>\n",
              "<table border=\"1\" class=\"dataframe\">\n",
              "  <thead>\n",
              "    <tr style=\"text-align: right;\">\n",
              "      <th></th>\n",
              "      <th>animal_name</th>\n",
              "      <th>hair</th>\n",
              "      <th>feathers</th>\n",
              "      <th>eggs</th>\n",
              "      <th>milk</th>\n",
              "      <th>airborne</th>\n",
              "      <th>aquatic</th>\n",
              "      <th>predator</th>\n",
              "      <th>toothed</th>\n",
              "      <th>backbone</th>\n",
              "      <th>breathes</th>\n",
              "      <th>venomous</th>\n",
              "      <th>fins</th>\n",
              "      <th>legs</th>\n",
              "      <th>tail</th>\n",
              "      <th>domestic</th>\n",
              "      <th>catsize</th>\n",
              "      <th>class_type</th>\n",
              "    </tr>\n",
              "  </thead>\n",
              "  <tbody>\n",
              "    <tr>\n",
              "      <th>0</th>\n",
              "      <td>aardvark</td>\n",
              "      <td>1</td>\n",
              "      <td>0</td>\n",
              "      <td>0</td>\n",
              "      <td>1</td>\n",
              "      <td>0</td>\n",
              "      <td>0</td>\n",
              "      <td>1</td>\n",
              "      <td>1</td>\n",
              "      <td>1</td>\n",
              "      <td>1</td>\n",
              "      <td>0</td>\n",
              "      <td>0</td>\n",
              "      <td>4</td>\n",
              "      <td>0</td>\n",
              "      <td>0</td>\n",
              "      <td>1</td>\n",
              "      <td>1</td>\n",
              "    </tr>\n",
              "    <tr>\n",
              "      <th>1</th>\n",
              "      <td>antelope</td>\n",
              "      <td>1</td>\n",
              "      <td>0</td>\n",
              "      <td>0</td>\n",
              "      <td>1</td>\n",
              "      <td>0</td>\n",
              "      <td>0</td>\n",
              "      <td>0</td>\n",
              "      <td>1</td>\n",
              "      <td>1</td>\n",
              "      <td>1</td>\n",
              "      <td>0</td>\n",
              "      <td>0</td>\n",
              "      <td>4</td>\n",
              "      <td>1</td>\n",
              "      <td>0</td>\n",
              "      <td>1</td>\n",
              "      <td>1</td>\n",
              "    </tr>\n",
              "    <tr>\n",
              "      <th>2</th>\n",
              "      <td>bass</td>\n",
              "      <td>0</td>\n",
              "      <td>0</td>\n",
              "      <td>1</td>\n",
              "      <td>0</td>\n",
              "      <td>0</td>\n",
              "      <td>1</td>\n",
              "      <td>1</td>\n",
              "      <td>1</td>\n",
              "      <td>1</td>\n",
              "      <td>0</td>\n",
              "      <td>0</td>\n",
              "      <td>1</td>\n",
              "      <td>0</td>\n",
              "      <td>1</td>\n",
              "      <td>0</td>\n",
              "      <td>0</td>\n",
              "      <td>4</td>\n",
              "    </tr>\n",
              "    <tr>\n",
              "      <th>3</th>\n",
              "      <td>bear</td>\n",
              "      <td>1</td>\n",
              "      <td>0</td>\n",
              "      <td>0</td>\n",
              "      <td>1</td>\n",
              "      <td>0</td>\n",
              "      <td>0</td>\n",
              "      <td>1</td>\n",
              "      <td>1</td>\n",
              "      <td>1</td>\n",
              "      <td>1</td>\n",
              "      <td>0</td>\n",
              "      <td>0</td>\n",
              "      <td>4</td>\n",
              "      <td>0</td>\n",
              "      <td>0</td>\n",
              "      <td>1</td>\n",
              "      <td>1</td>\n",
              "    </tr>\n",
              "  </tbody>\n",
              "</table>\n",
              "</div>\n",
              "      <button class=\"colab-df-convert\" onclick=\"convertToInteractive('df-4e008a35-be96-4fc8-9913-659f623c36db')\"\n",
              "              title=\"Convert this dataframe to an interactive table.\"\n",
              "              style=\"display:none;\">\n",
              "        \n",
              "  <svg xmlns=\"http://www.w3.org/2000/svg\" height=\"24px\"viewBox=\"0 0 24 24\"\n",
              "       width=\"24px\">\n",
              "    <path d=\"M0 0h24v24H0V0z\" fill=\"none\"/>\n",
              "    <path d=\"M18.56 5.44l.94 2.06.94-2.06 2.06-.94-2.06-.94-.94-2.06-.94 2.06-2.06.94zm-11 1L8.5 8.5l.94-2.06 2.06-.94-2.06-.94L8.5 2.5l-.94 2.06-2.06.94zm10 10l.94 2.06.94-2.06 2.06-.94-2.06-.94-.94-2.06-.94 2.06-2.06.94z\"/><path d=\"M17.41 7.96l-1.37-1.37c-.4-.4-.92-.59-1.43-.59-.52 0-1.04.2-1.43.59L10.3 9.45l-7.72 7.72c-.78.78-.78 2.05 0 2.83L4 21.41c.39.39.9.59 1.41.59.51 0 1.02-.2 1.41-.59l7.78-7.78 2.81-2.81c.8-.78.8-2.07 0-2.86zM5.41 20L4 18.59l7.72-7.72 1.47 1.35L5.41 20z\"/>\n",
              "  </svg>\n",
              "      </button>\n",
              "      \n",
              "  <style>\n",
              "    .colab-df-container {\n",
              "      display:flex;\n",
              "      flex-wrap:wrap;\n",
              "      gap: 12px;\n",
              "    }\n",
              "\n",
              "    .colab-df-convert {\n",
              "      background-color: #E8F0FE;\n",
              "      border: none;\n",
              "      border-radius: 50%;\n",
              "      cursor: pointer;\n",
              "      display: none;\n",
              "      fill: #1967D2;\n",
              "      height: 32px;\n",
              "      padding: 0 0 0 0;\n",
              "      width: 32px;\n",
              "    }\n",
              "\n",
              "    .colab-df-convert:hover {\n",
              "      background-color: #E2EBFA;\n",
              "      box-shadow: 0px 1px 2px rgba(60, 64, 67, 0.3), 0px 1px 3px 1px rgba(60, 64, 67, 0.15);\n",
              "      fill: #174EA6;\n",
              "    }\n",
              "\n",
              "    [theme=dark] .colab-df-convert {\n",
              "      background-color: #3B4455;\n",
              "      fill: #D2E3FC;\n",
              "    }\n",
              "\n",
              "    [theme=dark] .colab-df-convert:hover {\n",
              "      background-color: #434B5C;\n",
              "      box-shadow: 0px 1px 3px 1px rgba(0, 0, 0, 0.15);\n",
              "      filter: drop-shadow(0px 1px 2px rgba(0, 0, 0, 0.3));\n",
              "      fill: #FFFFFF;\n",
              "    }\n",
              "  </style>\n",
              "\n",
              "      <script>\n",
              "        const buttonEl =\n",
              "          document.querySelector('#df-4e008a35-be96-4fc8-9913-659f623c36db button.colab-df-convert');\n",
              "        buttonEl.style.display =\n",
              "          google.colab.kernel.accessAllowed ? 'block' : 'none';\n",
              "\n",
              "        async function convertToInteractive(key) {\n",
              "          const element = document.querySelector('#df-4e008a35-be96-4fc8-9913-659f623c36db');\n",
              "          const dataTable =\n",
              "            await google.colab.kernel.invokeFunction('convertToInteractive',\n",
              "                                                     [key], {});\n",
              "          if (!dataTable) return;\n",
              "\n",
              "          const docLinkHtml = 'Like what you see? Visit the ' +\n",
              "            '<a target=\"_blank\" href=https://colab.research.google.com/notebooks/data_table.ipynb>data table notebook</a>'\n",
              "            + ' to learn more about interactive tables.';\n",
              "          element.innerHTML = '';\n",
              "          dataTable['output_type'] = 'display_data';\n",
              "          await google.colab.output.renderOutput(dataTable, element);\n",
              "          const docLink = document.createElement('div');\n",
              "          docLink.innerHTML = docLinkHtml;\n",
              "          element.appendChild(docLink);\n",
              "        }\n",
              "      </script>\n",
              "    </div>\n",
              "  </div>\n",
              "  "
            ]
          },
          "metadata": {},
          "execution_count": 44
        }
      ]
    },
    {
      "cell_type": "code",
      "source": [
        "x = dataset.iloc[:, :-1].values\n",
        "y = dataset.iloc[:, 1].values"
      ],
      "metadata": {
        "id": "0qCqGeDzmfC7"
      },
      "execution_count": 77,
      "outputs": []
    },
    {
      "cell_type": "code",
      "source": [
        "from sklearn.model_selection import train_test_split\n",
        "xTrain, xTest, yTrain, yTest = train_test_split(x, y, test_size = .3, random_state = 0)\n",
        "from sklearn.linear_model import LinearRegression\n",
        "clf = LinearRegression()\n",
        "clf.fit(xTrain, yTrain)\n",
        "yPrediction = clf.predict(xTest)\n",
        "yPrediction"
      ],
      "metadata": {
        "id": "CiwOoNewmfWd"
      },
      "execution_count": null,
      "outputs": []
    },
    {
      "cell_type": "code",
      "source": [
        ""
      ],
      "metadata": {
        "id": "2uUUzs1Xmfmc"
      },
      "execution_count": null,
      "outputs": []
    },
    {
      "cell_type": "code",
      "source": [
        "plt.scatter(xTrain, yTrain, color = 'red')\n",
        "plt.plot(xTrain, clf.predict(xTrain), color = 'blue')\n",
        "plt.title('Salary vs Experience (Training set)')\n",
        "plt.xlabel('Years of Experience')\n",
        "plt.ylabel('Salary')\n",
        "plt.show()"
      ],
      "metadata": {
        "id": "zdpktzApnGN2"
      },
      "execution_count": null,
      "outputs": []
    },
    {
      "cell_type": "code",
      "source": [
        "# Import the dependencies for logistic regression\n",
        "import matplotlib.pyplot as plt\n",
        "import seaborn as sns\n",
        "from sklearn.linear_model import LogisticRegression\n",
        "from sklearn.metrics import classification_report\n",
        "from sklearn.metrics import accuracy_score\n",
        "from sklearn.model_selection import train_test_split"
      ],
      "metadata": {
        "id": "ysdETVqnnGY_"
      },
      "execution_count": null,
      "outputs": []
    },
    {
      "cell_type": "code",
      "source": [
        "#Load the data set\n",
        "data = sns.load_dataset(\"iris\")\n",
        "data.head()"
      ],
      "metadata": {
        "id": "iDaB2kEznGiZ"
      },
      "execution_count": null,
      "outputs": []
    },
    {
      "cell_type": "code",
      "source": [
        "#Prepare the training set\n",
        "\n",
        "# X = feature values, all the columns except the last column\n",
        "X = data.iloc[:, :-1]\n",
        "\n",
        "# y = target values, last column of the data frame\n",
        "y = data.iloc[:, -1]"
      ],
      "metadata": {
        "id": "q__g9XaUnGz9"
      },
      "execution_count": null,
      "outputs": []
    },
    {
      "cell_type": "code",
      "source": [
        "#Split the data into 80% training and 20% testing\n",
        "x_train, x_test, y_train, y_test = train_test_split(X, y, test_size=0.2, random_state=42)"
      ],
      "metadata": {
        "id": "dFXvlNLCxD37"
      },
      "execution_count": null,
      "outputs": []
    },
    {
      "cell_type": "code",
      "source": [
        "#Train the model\n",
        "model = LogisticRegression()\n",
        "model.fit(x_train, y_train) #Training the model\n",
        "predictions = model.predict(x_test)\n",
        "print(predictions)# printing predictions"
      ],
      "metadata": {
        "id": "0M8VJWXixEEx"
      },
      "execution_count": null,
      "outputs": []
    },
    {
      "cell_type": "code",
      "source": [
        ""
      ],
      "metadata": {
        "id": "qnOREt6dxEVy"
      },
      "execution_count": null,
      "outputs": []
    },
    {
      "cell_type": "code",
      "source": [
        ""
      ],
      "metadata": {
        "id": "8oLp-6bQxGwq"
      },
      "execution_count": null,
      "outputs": []
    }
  ]
}